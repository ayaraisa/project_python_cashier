{
  "nbformat": 4,
  "nbformat_minor": 0,
  "metadata": {
    "colab": {
      "provenance": []
    },
    "kernelspec": {
      "name": "python3",
      "display_name": "Python 3"
    },
    "language_info": {
      "name": "python"
    }
  },
  "cells": [
    {
      "cell_type": "code",
      "source": [
        "import pandas as pd\n",
        "import cashier as c"
      ],
      "metadata": {
        "id": "9Ok963sMd3Sh"
      },
      "execution_count": null,
      "outputs": []
    },
    {
      "cell_type": "code",
      "source": [
        "test_case = c.Transaction()"
      ],
      "metadata": {
        "id": "2d_np6otu3Yx"
      },
      "execution_count": null,
      "outputs": []
    },
    {
      "cell_type": "code",
      "source": [
        "test_case.add_item(\"Ayam Goreng\", 2, 20000)\n",
        "test_case.add_item(\"Pasta Gigi\", 3, 15000)\n",
        "test_case.show_order()"
      ],
      "metadata": {
        "colab": {
          "base_uri": "https://localhost:8080/"
        },
        "id": "iSm3AObcuh6K",
        "outputId": "4c081647-a603-4b2a-ffdb-492bc17e6338"
      },
      "execution_count": null,
      "outputs": [
        {
          "output_type": "stream",
          "name": "stdout",
          "text": [
            "Anda menambahkan Ayam Goreng sebanyak 2 seharga 20000\n",
            "Anda menambahkan Pasta Gigi sebanyak 3 seharga 15000\n",
            "| Nama Item   |   Jumlah Item |   Harga/Item |   Total Harga |\n",
            "|-------------|---------------|--------------|---------------|\n",
            "| Ayam Goreng |             2 |        20000 |         40000 |\n",
            "| Pasta Gigi  |             3 |        15000 |         45000 |\n"
          ]
        }
      ]
    },
    {
      "cell_type": "code",
      "source": [
        "test_case.delete_item(\"Pasta Gigi\")\n",
        "test_case.show_order()"
      ],
      "metadata": {
        "colab": {
          "base_uri": "https://localhost:8080/"
        },
        "id": "XkPV5fEhujyM",
        "outputId": "b049cc5a-0379-48d2-f61c-c44ac3034dad"
      },
      "execution_count": null,
      "outputs": [
        {
          "output_type": "stream",
          "name": "stdout",
          "text": [
            "Anda berhasil menghapus pesanan Pasta Gigi\n",
            "\n",
            "| Nama Item   |   Jumlah Item |   Harga/Item |   Total Harga |\n",
            "|-------------|---------------|--------------|---------------|\n",
            "| Ayam Goreng |             2 |        20000 |         40000 |\n"
          ]
        }
      ]
    },
    {
      "cell_type": "code",
      "source": [
        "test_case.reset_item()"
      ],
      "metadata": {
        "colab": {
          "base_uri": "https://localhost:8080/"
        },
        "id": "oUiltDZvulZO",
        "outputId": "86fdcd1e-5ae0-41ad-8ec2-e47be7b2ce40"
      },
      "execution_count": null,
      "outputs": [
        {
          "output_type": "stream",
          "name": "stdout",
          "text": [
            "Semua item di keranjang Anda sudah dihapus\n"
          ]
        }
      ]
    },
    {
      "cell_type": "code",
      "source": [
        "test_case.add_item(\"Ayam Goreng\", 2, 20000)\n",
        "test_case.add_item(\"Pasta Gigi\", 3, 15000)\n",
        "test_case.add_item(\"Mainan Mobil\", 1, 200000)\n",
        "test_case.add_item(\"Mi Instan\", 5, 3000)\n",
        "test_case.show_order()\n",
        "test_case.total_price()"
      ],
      "metadata": {
        "colab": {
          "base_uri": "https://localhost:8080/"
        },
        "id": "CI0oXLvxumum",
        "outputId": "55e2f137-0d7a-4ce0-9f59-dc3b6e33a25e"
      },
      "execution_count": null,
      "outputs": [
        {
          "output_type": "stream",
          "name": "stdout",
          "text": [
            "Anda menambahkan Ayam Goreng sebanyak 2 seharga 20000\n",
            "Anda menambahkan Pasta Gigi sebanyak 3 seharga 15000\n",
            "Anda menambahkan Mainan Mobil sebanyak 1 seharga 200000\n",
            "Anda menambahkan Mi Instan sebanyak 5 seharga 3000\n",
            "| Nama Item    |   Jumlah Item |   Harga/Item |   Total Harga |\n",
            "|--------------|---------------|--------------|---------------|\n",
            "| Ayam Goreng  |             2 |        20000 |         40000 |\n",
            "| Pasta Gigi   |             3 |        15000 |         45000 |\n",
            "| Mainan Mobil |             1 |       200000 |        200000 |\n",
            "| Mi Instan    |             5 |         3000 |         15000 |\n",
            "Selamat! Anda mendapatkan diskon sebesar 5% \n",
            "Total pembelanjaan Anda sebesar Rp 300000 menjadi Rp 285000\n"
          ]
        }
      ]
    },
    {
      "cell_type": "code",
      "source": [],
      "metadata": {
        "id": "2001BYKAwDbC"
      },
      "execution_count": null,
      "outputs": []
    }
  ]
}